{
 "cells": [
  {
   "cell_type": "code",
   "execution_count": 1,
   "metadata": {},
   "outputs": [],
   "source": [
    "import os, sys\n",
    "os.environ.setdefault('DJANGO_SETTINGS_MODULE', 'goshala.settings')\n",
    "os.environ[\"DJANGO_ALLOW_ASYNC_UNSAFE\"] = \"true\"\n",
    "import django\n",
    "django.setup()"
   ]
  },
  {
   "cell_type": "code",
   "execution_count": 2,
   "metadata": {},
   "outputs": [],
   "source": [
    "from cowapp.models import *\n",
    "import pprint as pp\n",
    "from rest_framework.views import APIView\n",
    "from cowapp.serializers import *"
   ]
  },
  {
   "cell_type": "code",
   "execution_count": 3,
   "metadata": {},
   "outputs": [],
   "source": [
    "from rest_framework import serializers\n",
    "from cowapp.models import *\n",
    "\n",
    "\n",
    "\n",
    "class Amount_infoSerializer(serializers.ModelSerializer):\n",
    "    class Meta:\n",
    "        model = Amount_info\n",
    "        fields = ['id','amount','user']\n",
    "       # fields = \"__all__\"\n",
    "\n",
    "class UserSerializer(serializers.ModelSerializer):\n",
    "    user=Amount_infoSerializer(many=True, read_only=True)\n",
    "    class Meta:\n",
    "        model = User\n",
    "        fields = ['id', 'name', 'contact', 'email', 'address', 'comment', 'amount', 'join_date', 'updated', 'user']\n"
   ]
  },
  {
   "cell_type": "code",
   "execution_count": null,
   "metadata": {},
   "outputs": [],
   "source": [
    "amounts = 444.44"
   ]
  },
  {
   "cell_type": "code",
   "execution_count": null,
   "metadata": {},
   "outputs": [],
   "source": [
    "name = \"raju\""
   ]
  },
  {
   "cell_type": "code",
   "execution_count": null,
   "metadata": {},
   "outputs": [],
   "source": [
    "mobail = \"9509582321\""
   ]
  },
  {
   "cell_type": "code",
   "execution_count": null,
   "metadata": {},
   "outputs": [],
   "source": [
    "user = User.objects.get(contact = mobail)\n",
    "print(user)\n",
    "A = Amount_info.objects.create(user = user, amount=amounts)"
   ]
  },
  {
   "cell_type": "code",
   "execution_count": null,
   "metadata": {},
   "outputs": [],
   "source": [
    "users = User.objects.get(name = 'vicky')\n",
    "print(users)"
   ]
  },
  {
   "cell_type": "code",
   "execution_count": 59,
   "metadata": {},
   "outputs": [],
   "source": [
    "data={\"name\":\"deendiyal\",\"contact\":\"95095\",\"email\":\"deen987@gmail.com\",\"address\":\"deenpur\",\"comment\":\"drtghj\",\"amount\":8000.32}\n"
   ]
  },
  {
   "cell_type": "code",
   "execution_count": null,
   "metadata": {},
   "outputs": [],
   "source": [
    "users = User.objects.get(pk=1)\n",
    "serializer = UserSerializer(data)\n",
    "particular = serializer.data\n",
    "v = particular['contact']\n",
    "U = User.objects.get(contact=v)\n",
    "print(U)"
   ]
  },
  {
   "cell_type": "code",
   "execution_count": 60,
   "metadata": {},
   "outputs": [
    {
     "name": "stdout",
     "output_type": "stream",
     "text": [
      "This data allredy exist ram\n",
      "yes\n"
     ]
    }
   ],
   "source": [
    "serializer2 = UserSerializer(data)\n",
    "particular = serializer2.data\n",
    "#print(\"*****\",particular)\n",
    "cont = particular['contact']\n",
    "#print(cont)\n",
    "try:\n",
    "    users = User.objects.get(contact = cont)\n",
    "    data1 = \"This data allredy exist ram\"\n",
    "    print(data1)\n",
    "   # return Response(data1, serializer3.data)\n",
    "\n",
    "except:\n",
    "    serializer4 = UserSerializer(data = data)            \n",
    "    if serializer4.is_valid():\n",
    "        serializer4.save()\n",
    "        print(\"sgf\")\n",
    "      #  return Response({\"success\":True}, status=status.HTTP_201_CREATED)\n",
    "#return Response(serializer2.errors, status=status.HTTP_400_BAD_REQUEST)\n",
    "else:\n",
    "    \n",
    "    data1 = data\n",
    "    mobile = data1[\"contact\"]\n",
    "    amount = data1[\"amount\"]\n",
    "\n",
    "    try:\n",
    "        user = User.objects.get(contact=mobile)\n",
    "        amountfield = Amount_info.objects.create(user=user, amount=amount)\n",
    "       # return Response({\"success\":True}, status=status.HTTP_201_CREATED)\n",
    "        print(\"yes\")\n",
    "    except ObjectDoesNotExist:\n",
    "        exc_type, exc_obj, exc_tb = sys.exc_info()\n",
    "        response={\"exception_type\":exc_type.__name__,\"filename\": exc_tb.tb_frame.f_code.co_filename,\"error_line_no\":exc_tb.tb_lineno,\"message\":\"No such user\"}\n",
    "        print(\"nhi\")\n",
    "       # return Response(response, status=status.HTTP_401_UNAUTHORIZED)"
   ]
  },
  {
   "cell_type": "code",
   "execution_count": null,
   "metadata": {},
   "outputs": [],
   "source": []
  }
 ],
 "metadata": {
  "kernelspec": {
   "display_name": "Python 3",
   "language": "python",
   "name": "python3"
  },
  "language_info": {
   "codemirror_mode": {
    "name": "ipython",
    "version": 3
   },
   "file_extension": ".py",
   "mimetype": "text/x-python",
   "name": "python",
   "nbconvert_exporter": "python",
   "pygments_lexer": "ipython3",
   "version": "3.8.5"
  }
 },
 "nbformat": 4,
 "nbformat_minor": 4
}
