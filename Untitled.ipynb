{
 "cells": [
  {
   "cell_type": "code",
   "execution_count": 1,
   "metadata": {},
   "outputs": [],
   "source": [
    "import os, sys\n",
    "os.environ.setdefault('DJANGO_SETTINGS_MODULE', 'goshala.settings')\n",
    "os.environ[\"DJANGO_ALLOW_ASYNC_UNSAFE\"] = \"true\"\n",
    "import django\n",
    "django.setup()"
   ]
  },
  {
   "cell_type": "code",
   "execution_count": 2,
   "metadata": {},
   "outputs": [],
   "source": [
    "from cowapp.models import *\n",
    "import pprint as pp\n",
    "from rest_framework.views import APIView\n",
    "from cowapp.serializers import *\n",
    "import razorpay"
   ]
  },
  {
   "cell_type": "code",
   "execution_count": 5,
   "metadata": {},
   "outputs": [],
   "source": [
    "from rest_framework import serializers\n",
    "from cowapp.models import *\n",
    "\n",
    "\n",
    "\n",
    "# class Amount_infoSerializer(serializers.ModelSerializer):\n",
    "#     class Meta:\n",
    "#         model = Amount_info\n",
    "#         fields = ['id','amount','user']\n",
    "#        # fields = \"__all__\"\n",
    "\n",
    "# class UserSerializer(serializers.ModelSerializer):\n",
    "#     user=Amount_infoSerializer(many=True, read_only=True)\n",
    "#     class Meta:\n",
    "#         model = User\n",
    "#         fields = ['id', 'name', 'contact', 'email', 'address', 'comment', 'amount', 'join_date', 'updated', 'user']\n"
   ]
  },
  {
   "cell_type": "code",
   "execution_count": null,
   "metadata": {},
   "outputs": [],
   "source": [
    "amounts = 444.44"
   ]
  },
  {
   "cell_type": "code",
   "execution_count": null,
   "metadata": {},
   "outputs": [],
   "source": [
    "name = \"raju\""
   ]
  },
  {
   "cell_type": "code",
   "execution_count": null,
   "metadata": {},
   "outputs": [],
   "source": [
    "mobail = \"9509582321\""
   ]
  },
  {
   "cell_type": "code",
   "execution_count": null,
   "metadata": {},
   "outputs": [],
   "source": [
    "user = User.objects.get(contact = mobail)\n",
    "print(user)\n",
    "A = Amount_info.objects.create(user = user, amount=amounts)"
   ]
  },
  {
   "cell_type": "code",
   "execution_count": 6,
   "metadata": {},
   "outputs": [
    {
     "name": "stdout",
     "output_type": "stream",
     "text": [
      "9509582321\n"
     ]
    }
   ],
   "source": [
    "users = User.objects.get(name = 'vicky')\n",
    "print(users)"
   ]
  },
  {
   "cell_type": "code",
   "execution_count": null,
   "metadata": {},
   "outputs": [],
   "source": [
    "data={\"name\":\"deendiyal\",\"contact\":\"95095\",\"email\":\"deen987@gmail.com\",\"address\":\"deenpur\",\"comment\":\"drtghj\",\"amount\":8000.32}\n"
   ]
  },
  {
   "cell_type": "code",
   "execution_count": null,
   "metadata": {},
   "outputs": [],
   "source": [
    "users = User.objects.get(pk=1)\n",
    "serializer = UserSerializer(data)\n",
    "particular = serializer.data\n",
    "v = particular['contact']\n",
    "U = User.objects.get(contact=v)\n",
    "print(U)"
   ]
  },
  {
   "cell_type": "code",
   "execution_count": null,
   "metadata": {},
   "outputs": [],
   "source": [
    "serializer2 = UserSerializer(data)\n",
    "particular = serializer2.data\n",
    "#print(\"*****\",particular)\n",
    "cont = particular['contact']\n",
    "#print(cont)\n",
    "try:\n",
    "    users = User.objects.get(contact = cont)\n",
    "    data1 = \"This data allredy exist ram\"\n",
    "    print(data1)\n",
    "   # return Response(data1, serializer3.data)\n",
    "\n",
    "except:\n",
    "    serializer4 = UserSerializer(data = data)            \n",
    "    if serializer4.is_valid():\n",
    "        serializer4.save()\n",
    "        print(\"sgf\")\n",
    "      #  return Response({\"success\":True}, status=status.HTTP_201_CREATED)\n",
    "#return Response(serializer2.errors, status=status.HTTP_400_BAD_REQUEST)\n",
    "else:\n",
    "    \n",
    "    data1 = data\n",
    "    mobile = data1[\"contact\"]\n",
    "    amount = data1[\"amount\"]\n",
    "\n",
    "    try:\n",
    "        user = User.objects.get(contact=mobile)\n",
    "        amountfield = Amount_info.objects.create(user=user, amount=amount)\n",
    "       # return Response({\"success\":True}, status=status.HTTP_201_CREATED)\n",
    "        print(\"yes\")\n",
    "    except ObjectDoesNotExist:\n",
    "        exc_type, exc_obj, exc_tb = sys.exc_info()\n",
    "        response={\"exception_type\":exc_type.__name__,\"filename\": exc_tb.tb_frame.f_code.co_filename,\"error_line_no\":exc_tb.tb_lineno,\"message\":\"No such user\"}\n",
    "        print(\"nhi\")\n",
    "       # return Response(response, status=status.HTTP_401_UNAUTHORIZED)"
   ]
  },
  {
   "cell_type": "code",
   "execution_count": null,
   "metadata": {},
   "outputs": [],
   "source": []
  },
  {
   "cell_type": "code",
   "execution_count": 7,
   "metadata": {},
   "outputs": [],
   "source": [
    "client = razorpay.Client(auth=(\"rzp_live_Ekvd5mHS07WMMY\", \"wBvQwEWZvkgcvicD0BMoGzDv\"))\n",
    "\n",
    "data = { \"amount\": 500, \"currency\": \"INR\", \"receipt\": \"ramu kaka11\" }\n",
    "payment = client.order.create(data=data)"
   ]
  },
  {
   "cell_type": "code",
   "execution_count": 8,
   "metadata": {},
   "outputs": [
    {
     "name": "stdout",
     "output_type": "stream",
     "text": [
      "{'id': 'order_JGPUZZkOUtXFAn', 'entity': 'order', 'amount': 500, 'amount_paid': 0, 'amount_due': 500, 'currency': 'INR', 'receipt': 'ramu kaka11', 'offer_id': None, 'status': 'created', 'attempts': 0, 'notes': [], 'created_at': 1649322263}\n"
     ]
    }
   ],
   "source": [
    "print(payment)"
   ]
  },
  {
   "cell_type": "code",
   "execution_count": null,
   "metadata": {},
   "outputs": [],
   "source": [
    "vks = payment['id']\n",
    "print(vks)"
   ]
  },
  {
   "cell_type": "code",
   "execution_count": null,
   "metadata": {},
   "outputs": [],
   "source": [
    "pppp = {\n",
    "\"razorpay_payment_id\": \"pay_JFDuoXXn0hK8SQ\",\n",
    "\"razorpay_order_id\": \"order_JFDrkBnJ5VbCsO\",\n",
    "\"razorpay_signature\": \"93d3d77b71d9668e8f1645d7bafc2411a7c39dd4cc0f26abdf96c423151b80af\"\n",
    "}\n",
    "print(type(pppp))"
   ]
  },
  {
   "cell_type": "code",
   "execution_count": 9,
   "metadata": {},
   "outputs": [
    {
     "name": "stdout",
     "output_type": "stream",
     "text": [
      "<class 'dict'>\n"
     ]
    }
   ],
   "source": [
    "ram = {\n",
    "\"razorpay_order_id\": \"order_JGODCV0uCxhIhj\",\n",
    "\"razorpay_payment_id\": \"pay_JGOGiQR1BAstiv\",\n",
    "\"razorpay_signature\": \"ccc96bf04cc1bd72e60c19161600604e53ae091c096f771053ce4796524fe26f\"\n",
    "}\n",
    "print(type(ram))"
   ]
  },
  {
   "cell_type": "code",
   "execution_count": 10,
   "metadata": {},
   "outputs": [
    {
     "name": "stdout",
     "output_type": "stream",
     "text": [
      "True\n"
     ]
    }
   ],
   "source": [
    "result = client.utility.verify_payment_signature(\n",
    "            ram)\n",
    "print(result)"
   ]
  },
  {
   "cell_type": "code",
   "execution_count": 14,
   "metadata": {},
   "outputs": [],
   "source": [
    "#razorpay_order_id = \"order_JGODCV0uCxhIhj\"\n",
    "\n",
    "razorpay_order_id = 'order_JGODCV0uCxhIhj'"
   ]
  },
  {
   "cell_type": "code",
   "execution_count": 23,
   "metadata": {},
   "outputs": [
    {
     "name": "stdout",
     "output_type": "stream",
     "text": [
      "<QuerySet [<Order: 14-50.0-Pending>, <Order: 15-100.0-Pending>, <Order: 16-84.0-Pending>, <Order: 17-9989.0-Pending>, <Order: 18-759.0-Pending>, <Order: 19-20.0-Pending>, <Order: 20-10.0-Pending>, <Order: 21-1.0-Pending>, <Order: 22-2.0-Pending>, <Order: 23-5.0-Pending>, <Order: 24-2.0-Pending>]>\n"
     ]
    }
   ],
   "source": [
    "#od_id = Order.objects.get(provider_order_id = razorpay_order_id)\n",
    "od_id = Order.objects.all()\n",
    "print(od_id)"
   ]
  },
  {
   "cell_type": "code",
   "execution_count": null,
   "metadata": {},
   "outputs": [],
   "source": []
  },
  {
   "cell_type": "code",
   "execution_count": null,
   "metadata": {},
   "outputs": [],
   "source": []
  },
  {
   "cell_type": "markdown",
   "metadata": {},
   "source": [
    "#  None"
   ]
  },
  {
   "cell_type": "code",
   "execution_count": null,
   "metadata": {},
   "outputs": [],
   "source": []
  },
  {
   "cell_type": "code",
   "execution_count": null,
   "metadata": {},
   "outputs": [],
   "source": [
    "var = None\n",
    "if var is None:\n",
    "    print(\"None\")\n",
    "else:\n",
    "    print(\"Not None\")"
   ]
  },
  {
   "cell_type": "code",
   "execution_count": null,
   "metadata": {},
   "outputs": [],
   "source": [
    "v = None\n",
    "print(type(v))"
   ]
  },
  {
   "cell_type": "code",
   "execution_count": null,
   "metadata": {},
   "outputs": [],
   "source": []
  },
  {
   "cell_type": "code",
   "execution_count": null,
   "metadata": {},
   "outputs": [],
   "source": [
    "var1 = 1\n",
    "if var1 is None:\n",
    "    print(\"None\")\n",
    "else:\n",
    "    print(\"Not None\")"
   ]
  },
  {
   "cell_type": "code",
   "execution_count": null,
   "metadata": {},
   "outputs": [],
   "source": [
    "v2 = True\n",
    "print(v2)"
   ]
  },
  {
   "cell_type": "code",
   "execution_count": null,
   "metadata": {},
   "outputs": [],
   "source": [
    "v3 = 0\n",
    "print(v3)"
   ]
  },
  {
   "cell_type": "code",
   "execution_count": null,
   "metadata": {},
   "outputs": [],
   "source": [
    "v4 = True\n",
    "if v4 == True:\n",
    "    print(\"is True\")\n",
    "else:\n",
    "    print(\"is not True\")\n"
   ]
  },
  {
   "cell_type": "code",
   "execution_count": null,
   "metadata": {},
   "outputs": [],
   "source": [
    "x = '93d3d77b71d9668e8f1645d7bafc2411a7c39dd4cc0f26abdf96c423151b80af'"
   ]
  },
  {
   "cell_type": "code",
   "execution_count": null,
   "metadata": {},
   "outputs": [],
   "source": [
    "z = \"93d3d77b71d9668e8f1645d7bafc2411a7c39dd4cc0f26abdf96c423151b80af\""
   ]
  },
  {
   "cell_type": "code",
   "execution_count": null,
   "metadata": {},
   "outputs": [],
   "source": [
    "if x == z :\n",
    "    print(\"ye\")\n",
    "else:\n",
    "    print(\"not mach\")"
   ]
  },
  {
   "cell_type": "code",
   "execution_count": null,
   "metadata": {},
   "outputs": [],
   "source": []
  }
 ],
 "metadata": {
  "kernelspec": {
   "display_name": "Python 3",
   "language": "python",
   "name": "python3"
  },
  "language_info": {
   "codemirror_mode": {
    "name": "ipython",
    "version": 3
   },
   "file_extension": ".py",
   "mimetype": "text/x-python",
   "name": "python",
   "nbconvert_exporter": "python",
   "pygments_lexer": "ipython3",
   "version": "3.8.5"
  }
 },
 "nbformat": 4,
 "nbformat_minor": 4
}
